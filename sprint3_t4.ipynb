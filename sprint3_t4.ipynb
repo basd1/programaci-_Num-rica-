{
 "cells": [
  {
   "cell_type": "code",
   "execution_count": 1,
   "id": "b4405590",
   "metadata": {},
   "outputs": [],
   "source": [
    "import numpy as np\n",
    "import pandas as pd"
   ]
  },
  {
   "cell_type": "code",
   "execution_count": 10,
   "id": "0cda5cff",
   "metadata": {},
   "outputs": [],
   "source": [
    "#Exercici 1 Resumen estadístico de array\n",
    "\n",
    "def resumen_estadistico(arr):\n",
    "    if(arr.ndim == 1):\n",
    "        df0 = pd.DataFrame(arr)\n",
    "        print(df0.describe())\n",
    "        return df0\n",
    "    else:\n",
    "        print(\"La array no tiene el formato correcto\")"
   ]
  },
  {
   "cell_type": "code",
   "execution_count": 11,
   "id": "028b66e2",
   "metadata": {},
   "outputs": [],
   "source": [
    "a = np.arange(4)\n",
    "b = np.eye(2)"
   ]
  },
  {
   "cell_type": "code",
   "execution_count": 12,
   "id": "84d4aba7",
   "metadata": {},
   "outputs": [
    {
     "name": "stdout",
     "output_type": "stream",
     "text": [
      "              0\n",
      "count  4.000000\n",
      "mean   1.500000\n",
      "std    1.290994\n",
      "min    0.000000\n",
      "25%    0.750000\n",
      "50%    1.500000\n",
      "75%    2.250000\n",
      "max    3.000000\n"
     ]
    },
    {
     "data": {
      "text/html": [
       "<div>\n",
       "<style scoped>\n",
       "    .dataframe tbody tr th:only-of-type {\n",
       "        vertical-align: middle;\n",
       "    }\n",
       "\n",
       "    .dataframe tbody tr th {\n",
       "        vertical-align: top;\n",
       "    }\n",
       "\n",
       "    .dataframe thead th {\n",
       "        text-align: right;\n",
       "    }\n",
       "</style>\n",
       "<table border=\"1\" class=\"dataframe\">\n",
       "  <thead>\n",
       "    <tr style=\"text-align: right;\">\n",
       "      <th></th>\n",
       "      <th>0</th>\n",
       "    </tr>\n",
       "  </thead>\n",
       "  <tbody>\n",
       "    <tr>\n",
       "      <th>0</th>\n",
       "      <td>0</td>\n",
       "    </tr>\n",
       "    <tr>\n",
       "      <th>1</th>\n",
       "      <td>1</td>\n",
       "    </tr>\n",
       "    <tr>\n",
       "      <th>2</th>\n",
       "      <td>2</td>\n",
       "    </tr>\n",
       "    <tr>\n",
       "      <th>3</th>\n",
       "      <td>3</td>\n",
       "    </tr>\n",
       "  </tbody>\n",
       "</table>\n",
       "</div>"
      ],
      "text/plain": [
       "   0\n",
       "0  0\n",
       "1  1\n",
       "2  2\n",
       "3  3"
      ]
     },
     "execution_count": 12,
     "metadata": {},
     "output_type": "execute_result"
    }
   ],
   "source": [
    "resumen_estadistico(a)"
   ]
  },
  {
   "cell_type": "code",
   "execution_count": 13,
   "id": "64ef6f3b",
   "metadata": {},
   "outputs": [
    {
     "name": "stdout",
     "output_type": "stream",
     "text": [
      "La array no tiene el formato correcto\n"
     ]
    }
   ],
   "source": [
    "resumen_estadistico(b)"
   ]
  },
  {
   "cell_type": "code",
   "execution_count": 14,
   "id": "e11e95b5",
   "metadata": {},
   "outputs": [],
   "source": [
    "#Exercici 2 Función para generar cuadrado NxN"
   ]
  },
  {
   "cell_type": "code",
   "execution_count": 15,
   "id": "ccbc0b0b",
   "metadata": {},
   "outputs": [],
   "source": [
    "def create_square(i):\n",
    "    return np.random.randint(101, size=(i,i))"
   ]
  },
  {
   "cell_type": "code",
   "execution_count": 16,
   "id": "1bb5fdb9",
   "metadata": {},
   "outputs": [
    {
     "data": {
      "text/plain": [
       "array([[13, 69],\n",
       "       [53, 20]])"
      ]
     },
     "execution_count": 16,
     "metadata": {},
     "output_type": "execute_result"
    }
   ],
   "source": [
    "create_square(2)"
   ]
  },
  {
   "cell_type": "code",
   "execution_count": 17,
   "id": "a3afe1c2",
   "metadata": {},
   "outputs": [
    {
     "data": {
      "text/plain": [
       "array([[62, 36, 85, 67, 34],\n",
       "       [36, 73, 68, 25, 45],\n",
       "       [88, 83, 35, 77, 10],\n",
       "       [ 9, 20, 34, 74,  7],\n",
       "       [40, 16, 57, 37, 95]])"
      ]
     },
     "execution_count": 17,
     "metadata": {},
     "output_type": "execute_result"
    }
   ],
   "source": [
    "create_square(5)"
   ]
  },
  {
   "cell_type": "code",
   "execution_count": 18,
   "id": "c5bc0674",
   "metadata": {},
   "outputs": [],
   "source": [
    "#Exercici 3 Calcular los totales\n",
    "def sum_lines(arr):\n",
    "    if(arr.ndim == 2):\n",
    "        df1 = pd.DataFrame(arr)\n",
    "        df2 = pd.DataFrame(df1.sum(axis=1))\n",
    "        for i in df1:\n",
    "            print(\"La suma de la columna \"+str(i+1)+\" es: \"+str(df1[i].sum()))\n",
    "        print(\" \")\n",
    "        for x in range(len(df2[0])):\n",
    "            print(\"La suma de la fila \"+str(x+1)+\" es: \"+str(df2[0][x]))\n",
    "    else:\n",
    "        print(\"La array no es de 2 dimensiones\")"
   ]
  },
  {
   "cell_type": "code",
   "execution_count": 19,
   "id": "a5eaaee9",
   "metadata": {},
   "outputs": [
    {
     "name": "stdout",
     "output_type": "stream",
     "text": [
      "La suma de la columna 1 es: 1.0\n",
      "La suma de la columna 2 es: 1.0\n",
      " \n",
      "La suma de la fila 1 es: 1.0\n",
      "La suma de la fila 2 es: 1.0\n"
     ]
    }
   ],
   "source": [
    "sum_lines(b)"
   ]
  },
  {
   "cell_type": "code",
   "execution_count": 20,
   "id": "05a21cfc",
   "metadata": {},
   "outputs": [
    {
     "name": "stdout",
     "output_type": "stream",
     "text": [
      "La array no es de 2 dimensiones\n"
     ]
    }
   ],
   "source": [
    "sum_lines(a)"
   ]
  },
  {
   "cell_type": "code",
   "execution_count": 21,
   "id": "c7ccf561",
   "metadata": {},
   "outputs": [
    {
     "data": {
      "text/plain": [
       "array([0, 1, 2, 3])"
      ]
     },
     "execution_count": 21,
     "metadata": {},
     "output_type": "execute_result"
    }
   ],
   "source": [
    "a"
   ]
  },
  {
   "cell_type": "code",
   "execution_count": 29,
   "id": "ff065433",
   "metadata": {},
   "outputs": [
    {
     "name": "stdout",
     "output_type": "stream",
     "text": [
      "[[1.        0.1281913]\n",
      " [0.1281913 1.       ]]\n"
     ]
    }
   ],
   "source": [
    "#Exercici 4\n",
    "z = np.random.randint(100, size=5)\n",
    "x = np.random.randint(100, size=5)\n",
    "print(np.corrcoef(x,z))"
   ]
  },
  {
   "cell_type": "code",
   "execution_count": null,
   "id": "ae363e58",
   "metadata": {},
   "outputs": [],
   "source": []
  }
 ],
 "metadata": {
  "kernelspec": {
   "display_name": "Python 3",
   "language": "python",
   "name": "python3"
  },
  "language_info": {
   "codemirror_mode": {
    "name": "ipython",
    "version": 3
   },
   "file_extension": ".py",
   "mimetype": "text/x-python",
   "name": "python",
   "nbconvert_exporter": "python",
   "pygments_lexer": "ipython3",
   "version": "3.9.6"
  }
 },
 "nbformat": 4,
 "nbformat_minor": 5
}
